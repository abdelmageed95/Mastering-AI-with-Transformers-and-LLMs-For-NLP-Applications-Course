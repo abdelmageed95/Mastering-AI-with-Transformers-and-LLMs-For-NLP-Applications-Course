{
  "cells": [
    {
      "cell_type": "code",
      "execution_count": 37,
      "metadata": {
        "colab": {
          "base_uri": "https://localhost:8080/"
        },
        "id": "Z8fNLTJSBjxN",
        "outputId": "4595d7aa-1ff2-49df-ff93-60843019abab"
      },
      "outputs": [
        {
          "name": "stderr",
          "output_type": "stream",
          "text": [
            "[nltk_data] Downloading package punkt to /root/nltk_data...\n",
            "[nltk_data]   Package punkt is already up-to-date!\n"
          ]
        }
      ],
      "source": [
        "import nltk\n",
        "nltk.download('punkt')\n",
        "from nltk.tokenize import sent_tokenize, word_tokenize\n",
        "from gensim.models import Word2Vec\n",
        "from sklearn.metrics.pairwise import cosine_similarity"
      ]
    },
    {
      "cell_type": "code",
      "execution_count": 43,
      "metadata": {
        "colab": {
          "base_uri": "https://localhost:8080/"
        },
        "id": "BP8IpAYU3ZG8",
        "outputId": "eddf4df3-9b57-42ce-9585-f0d7e981cdbb"
      },
      "outputs": [
        {
          "name": "stdout",
          "output_type": "stream",
          "text": [
            "Cosine Similarity between 'black' and 'brown': 0.9903360605239868\n"
          ]
        }
      ],
      "source": [
        "\n",
        "\n",
        "# Read your text data from a file (text.txt)\n",
        "with open(\"text.txt\", \"r\") as file:\n",
        "    text_data = file.read()\n",
        "\n",
        "# Tokenize the text into sentences and words\n",
        "sentences = [word_tokenize(sentence.lower()) for sentence in sent_tokenize(text_data)]\n",
        "\n",
        "# Create a Word2Vec model\n",
        "model = Word2Vec(sentences, min_count=1, vector_size=512, window=5, sg = 1 )\n",
        "\n",
        "# Define the words for which you want to calculate cosine similarity\n",
        "word1 = 'black'\n",
        "word2 = 'brown'\n",
        "\n",
        "# Check if the words exist in the vocabulary\n",
        "if word1 in model.wv.key_to_index and word2 in model.wv.key_to_index:\n",
        "    v1 = model.wv[word1].reshape((1, 512))\n",
        "    v2 = model.wv[word2].reshape((1, 512))\n",
        "\n",
        "    # Calculate cosine similarity\n",
        "    similarity = cosine_similarity(v1, v2)\n",
        "\n",
        "    print(f\"Cosine Similarity between '{word1}' and '{word2}': {similarity[0][0]}\")\n",
        "else:\n",
        "    print(\"One or both words are not in the vocabulary.\")\n"
      ]
    },
    {
      "cell_type": "code",
      "execution_count": 40,
      "metadata": {
        "colab": {
          "base_uri": "https://localhost:8080/"
        },
        "id": "pC-wxNZQE_20",
        "outputId": "748c3695-7b98-4e3a-a968-d53516b8d4d8"
      },
      "outputs": [
        {
          "data": {
            "text/plain": [
              "375"
            ]
          },
          "execution_count": 40,
          "metadata": {},
          "output_type": "execute_result"
        }
      ],
      "source": [
        "len(sentences)"
      ]
    }
  ],
  "metadata": {
    "colab": {
      "provenance": []
    },
    "kernelspec": {
      "display_name": "Python 3",
      "name": "python3"
    },
    "language_info": {
      "name": "python"
    }
  },
  "nbformat": 4,
  "nbformat_minor": 0
}
