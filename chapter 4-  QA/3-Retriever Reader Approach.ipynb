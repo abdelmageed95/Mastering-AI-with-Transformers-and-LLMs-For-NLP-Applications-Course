{
  "cells": [
    {
      "cell_type": "code",
      "execution_count": 38,
      "id": "0aebde45",
      "metadata": {
        "collapsed": true,
        "colab": {
          "base_uri": "https://localhost:8080/"
        },
        "id": "0aebde45",
        "outputId": "7fafa7b7-78cb-4e63-c2b2-017db1e70538"
      },
      "outputs": [
        {
          "output_type": "stream",
          "name": "stdout",
          "text": [
            "Installing collected packages: elasticsearch\n",
            "Successfully installed elasticsearch-7.17.7\n"
          ]
        }
      ],
      "source": [
        "! pip install elasticsearch==7.17.7 huggingface-hub==0.11.0 transformers==4.21.2 datasets"
      ]
    },
    {
      "cell_type": "code",
      "execution_count": 39,
      "id": "94d58072",
      "metadata": {
        "id": "94d58072"
      },
      "outputs": [],
      "source": [
        "from datasets import get_dataset_config_names\n",
        "import transformers\n",
        "import torch"
      ]
    },
    {
      "cell_type": "code",
      "execution_count": 40,
      "id": "b6ed70ee",
      "metadata": {
        "colab": {
          "base_uri": "https://localhost:8080/"
        },
        "id": "b6ed70ee",
        "outputId": "53a4856e-3017-4a42-89a7-6b903e18b8c1"
      },
      "outputs": [
        {
          "output_type": "execute_result",
          "data": {
            "text/plain": [
              "['books', 'electronics', 'grocery', 'movies', 'restaurants', 'tripadvisor']"
            ]
          },
          "metadata": {},
          "execution_count": 40
        }
      ],
      "source": [
        "domains = get_dataset_config_names('subjqa')\n",
        "domains\n"
      ]
    },
    {
      "cell_type": "code",
      "execution_count": 41,
      "id": "f9ac51f9",
      "metadata": {
        "colab": {
          "base_uri": "https://localhost:8080/"
        },
        "id": "f9ac51f9",
        "outputId": "284afb2f-dfea-4036-8105-7dc070790730"
      },
      "outputs": [
        {
          "output_type": "stream",
          "name": "stdout",
          "text": [
            "Pytorch version: 2.0.1+cu118 \n"
          ]
        }
      ],
      "source": [
        "print(f\"Pytorch version: {torch.__version__} \")"
      ]
    },
    {
      "cell_type": "code",
      "execution_count": 42,
      "id": "1222c4ea",
      "metadata": {
        "colab": {
          "base_uri": "https://localhost:8080/"
        },
        "id": "1222c4ea",
        "outputId": "06ea72ef-990c-46bb-b813-8321eeb84d67"
      },
      "outputs": [
        {
          "output_type": "execute_result",
          "data": {
            "text/plain": [
              "True"
            ]
          },
          "metadata": {},
          "execution_count": 42
        }
      ],
      "source": [
        "torch.cuda.is_available()"
      ]
    },
    {
      "cell_type": "code",
      "execution_count": 43,
      "id": "7d6d52b6",
      "metadata": {
        "colab": {
          "base_uri": "https://localhost:8080/",
          "height": 376,
          "referenced_widgets": [
            "da06c40d988449a2b2c65cff628e6b4c",
            "8556d6d5ceb945fb97fc14d73071840f",
            "e2c1541c887b4a7daab80f0d969b2b57",
            "115ea334045f4360a3e102ee6b3ca1b1",
            "42ee9eebca3d43eda2b1ea93b64df6dd",
            "32279e1f551b45f7a3b4bd596bcab659",
            "945dd94d6ec947bb90774089d2411dd1",
            "6a21dcb1ef554537b6d9ec9ba3a3454f",
            "1bd8aceec65542a4b1a0bca9784d68e7",
            "01dea2911c0949b989f4a50dc6c97463",
            "b6795cfaba2f456f8832de0883dfa3b4"
          ]
        },
        "id": "7d6d52b6",
        "outputId": "1cc85f78-9d09-453b-a641-8e855cb03d1e"
      },
      "outputs": [
        {
          "output_type": "stream",
          "name": "stderr",
          "text": [
            "WARNING:datasets.builder:Found cached dataset subjqa (/root/.cache/huggingface/datasets/subjqa/electronics/1.1.0/2c12e496c4c675ab4a57ffb5d3f538f2e7b89793956e50da37126393ce23b6c6)\n"
          ]
        },
        {
          "output_type": "display_data",
          "data": {
            "text/plain": [
              "  0%|          | 0/3 [00:00<?, ?it/s]"
            ],
            "application/vnd.jupyter.widget-view+json": {
              "version_major": 2,
              "version_minor": 0,
              "model_id": "da06c40d988449a2b2c65cff628e6b4c"
            }
          },
          "metadata": {}
        },
        {
          "output_type": "execute_result",
          "data": {
            "text/plain": [
              "DatasetDict({\n",
              "    train: Dataset({\n",
              "        features: ['domain', 'nn_mod', 'nn_asp', 'query_mod', 'query_asp', 'q_reviews_id', 'question_subj_level', 'ques_subj_score', 'is_ques_subjective', 'review_id', 'id', 'title', 'context', 'question', 'answers'],\n",
              "        num_rows: 1295\n",
              "    })\n",
              "    test: Dataset({\n",
              "        features: ['domain', 'nn_mod', 'nn_asp', 'query_mod', 'query_asp', 'q_reviews_id', 'question_subj_level', 'ques_subj_score', 'is_ques_subjective', 'review_id', 'id', 'title', 'context', 'question', 'answers'],\n",
              "        num_rows: 358\n",
              "    })\n",
              "    validation: Dataset({\n",
              "        features: ['domain', 'nn_mod', 'nn_asp', 'query_mod', 'query_asp', 'q_reviews_id', 'question_subj_level', 'ques_subj_score', 'is_ques_subjective', 'review_id', 'id', 'title', 'context', 'question', 'answers'],\n",
              "        num_rows: 255\n",
              "    })\n",
              "})"
            ]
          },
          "metadata": {},
          "execution_count": 43
        }
      ],
      "source": [
        "from datasets import load_dataset\n",
        "subjqa = load_dataset(\"subjqa\" , name = 'electronics')\n",
        "subjqa\n"
      ]
    },
    {
      "cell_type": "code",
      "execution_count": 44,
      "id": "579c8426",
      "metadata": {
        "colab": {
          "base_uri": "https://localhost:8080/"
        },
        "id": "579c8426",
        "outputId": "75959b8b-3e73-47d2-d5e6-77d08fc22da4"
      },
      "outputs": [
        {
          "output_type": "stream",
          "name": "stdout",
          "text": [
            "Is this music song have a goo bass?\n",
            "###########################################################################\n",
            "To anyone who hasn't tried all the various types of headphones, it is important to remember exactly what these are: cheap portable on-ear headphones. They give a totally different sound then in-ears or closed design phones, but for what they are I would say they're good. I currently own six pairs of phones, from stock apple earbuds to Sennheiser HD 518s. Gave my Portapros a run on both my computer's sound card and mp3 player, using 256 kbps mp3s or better. The clarity is good and they're very lightweight. The folding design is simple but effective. The look is certainly retro and unique, although I didn't find it as comfortable as many have claimed. Earpads are *very* thin and made my ears sore after 30 minutes of listening, although this can be remedied to a point by adjusting the \"comfort zone\" feature (tightening the temple pads while loosening the ear pads). The cord seems to be an average thickness, but I wouldn't get too rough with these. The steel headband adjusts smoothly and easily, just watch out that the slider doesn't catch your hair. Despite the sore ears, the phones are very lightweight overall.Back to the sound: as you would expect, it's good for a portable phone, but hardly earth shattering. At flat EQ the clarity is good, although the highs can sometimes be harsh. Bass is weak as expected, even with EQ adjusted up. To be fair, a portable on-ear would have a tough time comparing to the bass of an in-ear with a good seal or a pair with larger drivers. No sound isolation offered if you're into that sort of thing. Cool 80s phones, though I've certainly owned better portable on-ears (Sony makes excellent phones in this category). Soundstage is very narrow and lacks body. A good value if you can get them for under thirty, otherwise I'd rather invest in a nicer pair of phones. If we're talking about value, they're a good buy compared to new stock apple buds. If you're trying to compare the sound quality of this product to serious headphones, there's really no comparison at all.Update: After 100 hours of burn-in time the sound has not been affected in any appreciable way. Highs are still harsh, and bass is still underwhelming. I sometimes use these as a convenience but they have been largely replaced in my collection.\n",
            "###########################################################################\n",
            "{'text': ['Bass is weak as expected', 'Bass is weak as expected, even with EQ adjusted up'], 'answer_start': [1302, 1302], 'answer_subj_level': [1, 1], 'ans_subj_score': [0.5083333253860474, 0.5083333253860474], 'is_ans_subjective': [True, True]}\n"
          ]
        }
      ],
      "source": [
        "\n",
        "print(subjqa['train']['question'][1])\n",
        "print(\"###########################################################################\")\n",
        "print(subjqa['train']['context'][1])\n",
        "print(\"###########################################################################\")\n",
        "print(subjqa['train']['answers'][1])"
      ]
    },
    {
      "cell_type": "code",
      "execution_count": 45,
      "id": "c46719b2",
      "metadata": {
        "colab": {
          "base_uri": "https://localhost:8080/"
        },
        "id": "c46719b2",
        "outputId": "3767ade1-465d-4803-c1b3-78b86ed53752"
      },
      "outputs": [
        {
          "output_type": "stream",
          "name": "stdout",
          "text": [
            "number of question in train: 1295\n",
            "number of question in test: 358\n",
            "number of question in validation: 255\n"
          ]
        }
      ],
      "source": [
        "import pandas as pd\n",
        "\n",
        "dfs = {split: dset.to_pandas() for split , dset in subjqa.flatten().items()}\n",
        "\n",
        "for split , df in dfs.items():\n",
        "    print(f\"number of question in {split}: {df['id'].nunique()}\")\n"
      ]
    },
    {
      "cell_type": "markdown",
      "id": "06992fd7",
      "metadata": {
        "id": "06992fd7"
      },
      "source": [
        "### build a QA system"
      ]
    },
    {
      "cell_type": "code",
      "execution_count": null,
      "id": "0fc1967f",
      "metadata": {
        "id": "0fc1967f"
      },
      "outputs": [],
      "source": [
        "# ## download elasticsearch\n",
        "url = \"https://artifacts.elastic.co/downloads/elasticsearch/elasticsearch-7.9.2-linux-x86_64.tar.gz\"\n",
        "\n",
        "!wget -nc -q {url}\n",
        "# # unpack it with the tar shell command\n",
        "!tar -xzf elasticsearch-7.9.2-linux-x86_64.tar.gz"
      ]
    },
    {
      "cell_type": "code",
      "execution_count": null,
      "id": "3c42d62a",
      "metadata": {
        "id": "3c42d62a"
      },
      "outputs": [],
      "source": [
        "# run elastic search as background process\n",
        "\n",
        "import os\n",
        "from subprocess import Popen , PIPE , STDOUT\n",
        "\n",
        "!chown -R AIMastery:AIMastery elasticsearch-7.9.2\n",
        "\n",
        "es_server = Popen(args = ['elasticsearch-7.9.2/bin/elasticsearch'] ,\n",
        "                 stdout = PIPE ,\n",
        "                 stderr = STDOUT)\n",
        "\n",
        "! sleep 30"
      ]
    },
    {
      "cell_type": "code",
      "execution_count": null,
      "id": "8007c5a8",
      "metadata": {
        "id": "8007c5a8",
        "outputId": "b997cfa5-5440-4ade-a8a2-100afc28703c"
      },
      "outputs": [
        {
          "name": "stdout",
          "output_type": "stream",
          "text": [
            "huggingface/tokenizers: The current process just got forked, after parallelism has already been used. Disabling parallelism to avoid deadlocks...\n",
            "To disable this warning, you can either:\n",
            "\t- Avoid using `tokenizers` before the fork if possible\n",
            "\t- Explicitly set the environment variable TOKENIZERS_PARALLELISM=(true | false)\n",
            "{\n",
            "  \"name\" : \"abdelmageed-virtual-machine\",\n",
            "  \"cluster_name\" : \"elasticsearch\",\n",
            "  \"cluster_uuid\" : \"5hYii2vhQVmski_ILFOqJQ\",\n",
            "  \"version\" : {\n",
            "    \"number\" : \"7.9.2\",\n",
            "    \"build_flavor\" : \"default\",\n",
            "    \"build_type\" : \"tar\",\n",
            "    \"build_hash\" : \"d34da0ea4a966c4e49417f2da2f244e3e97b4e6e\",\n",
            "    \"build_date\" : \"2020-09-23T00:45:33.626720Z\",\n",
            "    \"build_snapshot\" : false,\n",
            "    \"lucene_version\" : \"8.6.2\",\n",
            "    \"minimum_wire_compatibility_version\" : \"6.8.0\",\n",
            "    \"minimum_index_compatibility_version\" : \"6.0.0-beta1\"\n",
            "  },\n",
            "  \"tagline\" : \"You Know, for Search\"\n",
            "}\n"
          ]
        }
      ],
      "source": [
        "# test the connection\n",
        "\n",
        "!curl -X GET \"localhost:9200/?pretty\""
      ]
    },
    {
      "cell_type": "code",
      "execution_count": null,
      "id": "d27de08e",
      "metadata": {
        "scrolled": true,
        "id": "d27de08e",
        "outputId": "21eb2ebb-d8b7-45c6-cf20-f5be8513fe02"
      },
      "outputs": [
        {
          "name": "stdout",
          "output_type": "stream",
          "text": [
            "loaded 1615 documents\n"
          ]
        }
      ],
      "source": [
        "\n",
        "\n",
        "# pip install farm-haystack==1.10.0\n",
        "\n",
        "from haystack.document_stores.elasticsearch import ElasticsearchDocumentStore\n",
        "\n",
        "# Return the document embedding for later use with dense retriever\n",
        "document_store = ElasticsearchDocumentStore(return_embedding=True)\n",
        "\n",
        "for split , df  in dfs.items():\n",
        "    # exclude duplicate reviews\n",
        "    docs = [{\"content\": row['context'],\n",
        "            \"meta\":{\"item_id\": row['title'],\n",
        "                    \"question_id\": row['id'],\n",
        "                    \"split\": split}} for _ , row in df.drop_duplicates(subset = \"context\").iterrows()]\n",
        "    document_store.write_documents(docs , index = \"document\")\n",
        "\n",
        "print(f'loaded {document_store.get_document_count()} documents')"
      ]
    },
    {
      "cell_type": "code",
      "execution_count": null,
      "id": "6415ea85",
      "metadata": {
        "id": "6415ea85",
        "outputId": "6991a59a-f482-468e-e022-059a654965c0"
      },
      "outputs": [
        {
          "name": "stderr",
          "output_type": "stream",
          "text": [
            "WARNING:haystack.nodes.retriever.sparse:This class is now deprecated. Please use the BM25Retriever instead\n"
          ]
        }
      ],
      "source": [
        "from haystack.nodes.retriever.sparse import ElasticsearchRetriever\n",
        "\n",
        "\n",
        "es_retriever = ElasticsearchRetriever(document_store = document_store)\n"
      ]
    },
    {
      "cell_type": "code",
      "execution_count": null,
      "id": "c1e7eb49",
      "metadata": {
        "id": "c1e7eb49",
        "outputId": "06505dea-3617-455e-ece4-78f1b29736c0"
      },
      "outputs": [
        {
          "name": "stdout",
          "output_type": "stream",
          "text": [
            "<Document: id=252e83e25d52df7311d597dc89eef9f6, content='This is a gift to myself.  I have been a kindle user for 4 years and this is my third one.  I never  ...'>\n"
          ]
        }
      ],
      "source": [
        "item_id = \"B0074BW614\"\n",
        "query = \"is it good for reading\"\n",
        "\n",
        "retrieved_docs = es_retriever.retrieve(query = query,\n",
        "                                       top_k = 3 ,\n",
        "                                       filters = { \"item_id\":[item_id],\n",
        "                                                   \"split\" : [\"train\"]})\n",
        "print(retrieved_docs[0])\n"
      ]
    },
    {
      "cell_type": "code",
      "execution_count": null,
      "id": "fd4aa683",
      "metadata": {
        "id": "fd4aa683",
        "outputId": "a2324c69-933b-453a-eed4-48753d240a54"
      },
      "outputs": [
        {
          "data": {
            "text/plain": [
              "<Document: {'content': 'This is a gift to myself.  I have been a kindle user for 4 years and this is my third one.  I never thought I would want a fire for I mainly use it for book reading.  I decided to try the fire for when I travel I take my laptop, my phone and my iPod classic.  I love my iPod but watching movies on the plane with it can be challenging because it is so small. Laptops battery life is not as good as the Kindle.  So the Fire combines for me what I needed all three to do. So far so good.', 'content_type': 'text', 'score': 0.6857824513476455, 'meta': {'item_id': 'B0074BW614', 'question_id': '868e311275e26dbafe5af70774a300f3', 'split': 'train'}, 'embedding': None, 'id': '252e83e25d52df7311d597dc89eef9f6'}>"
            ]
          },
          "execution_count": 20,
          "metadata": {},
          "output_type": "execute_result"
        }
      ],
      "source": [
        "retrieved_docs[0]"
      ]
    },
    {
      "cell_type": "code",
      "execution_count": null,
      "id": "91c3ef29",
      "metadata": {
        "id": "91c3ef29"
      },
      "outputs": [],
      "source": [
        "# part 2 the reader\n",
        "\n",
        "from haystack.nodes import FARMReader\n",
        "\n",
        "model_ckpt = \"deepset/minilm-uncased-squad2\"\n",
        "max_seq_length = 384\n",
        "doc_stride = 128\n",
        "\n",
        "reader = FARMReader(model_name_or_path=model_ckpt,\n",
        "                    progress_bar=False,\n",
        "                    max_seq_len=max_seq_length,\n",
        "                    doc_stride=doc_stride,\n",
        "                    return_no_answer=True)\n"
      ]
    },
    {
      "cell_type": "code",
      "execution_count": null,
      "id": "0ae3fcce",
      "metadata": {
        "id": "0ae3fcce",
        "outputId": "512f9c31-3254-45ec-bbdb-4b4b03eec4fc"
      },
      "outputs": [
        {
          "name": "stdout",
          "output_type": "stream",
          "text": [
            "{'query': 'is it good for reading', 'no_ans_gap': 10.394830226898193, 'answers': [<Answer {'answer': '', 'type': 'extractive', 'score': 0.5389688395815545, 'context': None, 'offsets_in_document': [{'start': 0, 'end': 0}], 'offsets_in_context': [{'start': 0, 'end': 0}], 'document_id': None, 'meta': {}}>, <Answer {'answer': 'I mainly use it for book reading', 'type': 'extractive', 'score': 0.36830073595046997, 'context': ' is my third one.  I never thought I would want a fire for I mainly use it for book reading.  I decided to try the fire for when I travel I take my la', 'offsets_in_document': [{'start': 132, 'end': 164}], 'offsets_in_context': [{'start': 59, 'end': 91}], 'document_id': '252e83e25d52df7311d597dc89eef9f6', 'meta': {}}>]}\n"
          ]
        }
      ],
      "source": [
        "print(reader.predict_on_texts(question=query, texts= [retrieved_docs[0].content], top_k=3))\n"
      ]
    },
    {
      "cell_type": "code",
      "execution_count": null,
      "id": "8ef6258a",
      "metadata": {
        "id": "8ef6258a"
      },
      "outputs": [],
      "source": [
        "\n",
        "from haystack.pipelines import ExtractiveQAPipeline\n",
        "\n",
        "pipe = ExtractiveQAPipeline(reader, es_retriever)\n"
      ]
    },
    {
      "cell_type": "code",
      "execution_count": null,
      "id": "ce88d24d",
      "metadata": {
        "id": "ce88d24d",
        "outputId": "343fed4a-b3e8-4c7e-c523-cce29947d55a"
      },
      "outputs": [
        {
          "name": "stdout",
          "output_type": "stream",
          "text": [
            "Question: is it good for reading \n",
            "\n",
            "Answer 1: This is a good tablet for reading books\n",
            "Review snippet: ... I expect of a tablet.The text is very clear and sharp. This is a good tablet for reading books, which is more than I expected.There is the one small ...\n",
            " \n",
            "\n",
            "\n",
            "Answer 2: it is great for reading books when no light is available\n",
            "Review snippet: ...ecoming addicted to hers! Our son LOVES it and it is great for reading books when no light is available. Amazing sound but I suggest good headphones t...\n",
            " \n",
            "\n",
            "\n",
            "Answer 3: \n",
            "Review snippet: ...None...\n",
            " \n",
            "\n",
            "\n"
          ]
        }
      ],
      "source": [
        "\n",
        "n_answers = 3\n",
        "\n",
        "preds = pipe.run(query=query,\n",
        "                 params={\"Retriever\": {\"top_k\": 3}, \"Reader\": {\"top_k\": 3}})\n",
        "\n",
        "print(f\"Question: {preds['query']} \\n\" )\n",
        "\n",
        "for idx in range(n_answers):\n",
        "    print(f\"Answer {idx+1}: {preds['answers'][idx].answer}\" )\n",
        "    print(f\"Review snippet: ...{preds['answers'][idx].context}...\" )\n",
        "    print(\" \\n\\n\" )"
      ]
    },
    {
      "cell_type": "code",
      "execution_count": null,
      "id": "beaec0a2",
      "metadata": {
        "id": "beaec0a2",
        "outputId": "f2be40a3-cff7-4d6a-e59b-9c74ae711d3a"
      },
      "outputs": [
        {
          "name": "stderr",
          "output_type": "stream",
          "text": [
            "The tokenizer class you load from this checkpoint is not the same type as the class this function is called from. It may result in unexpected tokenization. \n",
            "The tokenizer class you load from this checkpoint is 'DPRQuestionEncoderTokenizer'. \n",
            "The class this function is called from is 'DPRContextEncoderTokenizerFast'.\n"
          ]
        }
      ],
      "source": [
        "from haystack.nodes.retriever.dense import DensePassageRetriever\n",
        "\n",
        "dpr_retriever = DensePassageRetriever(document_store=document_store,\n",
        "                                      query_embedding_model=\"facebook/dpr-question_encoder-single-nq-base\" ,\n",
        "                                      passage_embedding_model=\"facebook/dpr-ctx_encoder-single-nq-base\" ,\n",
        "                                      embed_title=False)\n"
      ]
    },
    {
      "cell_type": "code",
      "execution_count": null,
      "id": "f4c3535f",
      "metadata": {
        "id": "f4c3535f"
      },
      "outputs": [],
      "source": [
        "\n",
        "document_store.update_embeddings(retriever=dpr_retriever)\n"
      ]
    },
    {
      "cell_type": "code",
      "execution_count": null,
      "id": "c787ef3c",
      "metadata": {
        "id": "c787ef3c"
      },
      "outputs": [],
      "source": [
        "\n",
        "from haystack.nodes import FARMReader\n",
        "\n",
        "model_ckpt = \"deepset/minilm-uncased-squad2\"\n",
        "max_seq_length = 384\n",
        "doc_stride = 128\n",
        "\n",
        "reader = FARMReader(model_name_or_path=model_ckpt,\n",
        "                    progress_bar=False,\n",
        "                    max_seq_len=max_seq_length,\n",
        "                    doc_stride=doc_stride,\n",
        "                    return_no_answer=True)"
      ]
    },
    {
      "cell_type": "code",
      "execution_count": null,
      "id": "08145ce3",
      "metadata": {
        "id": "08145ce3",
        "outputId": "cfad29e0-e0a8-42c5-db84-a435c7f258ad"
      },
      "outputs": [
        {
          "name": "stdout",
          "output_type": "stream",
          "text": [
            "Question: is it good for reading \n",
            "\n",
            "Answer 1: ibooks\n",
            "Review snippet: ... this case. The Ipad part removes easily, for playing games, or reading ibooks. All Ipad Control buttons and camera are not obstructed by the case. I ...\n",
            " \n",
            "\n",
            "\n",
            "Answer 2: \n",
            "Review snippet: ...None...\n",
            " \n",
            "\n",
            "\n",
            "Answer 3: It works really well\n",
            "Review snippet: ...had good and bad Amazon reviews. I took a chance and bought one. It works really well.  Keys are understandably smaller than a Standard Keyboard size,...\n",
            " \n",
            "\n",
            "\n"
          ]
        }
      ],
      "source": [
        "from haystack.pipelines import ExtractiveQAPipeline\n",
        "\n",
        "pipe = ExtractiveQAPipeline(reader, dpr_retriever)\n",
        "\n",
        "\n",
        "\n",
        "n_answers = 3\n",
        "\n",
        "preds = pipe.run(query=query,\n",
        "                 params={\"Retriever\": {\"top_k\": 3}, \"Reader\": {\"top_k\": 3}})\n",
        "\n",
        "print(f\"Question: {preds['query']} \\n\" )\n",
        "\n",
        "for idx in range(n_answers):\n",
        "    print(f\"Answer {idx+1}: {preds['answers'][idx].answer}\" )\n",
        "    print(f\"Review snippet: ...{preds['answers'][idx].context}...\" )\n",
        "    print(\" \\n\\n\" )"
      ]
    },
    {
      "cell_type": "code",
      "execution_count": null,
      "id": "ad7a59c9",
      "metadata": {
        "id": "ad7a59c9"
      },
      "outputs": [],
      "source": []
    },
    {
      "cell_type": "code",
      "execution_count": null,
      "id": "1488788a",
      "metadata": {
        "id": "1488788a"
      },
      "outputs": [],
      "source": []
    }
  ],
  "metadata": {
    "kernelspec": {
      "display_name": "Python 3",
      "name": "python3"
    },
    "language_info": {
      "codemirror_mode": {
        "name": "ipython",
        "version": 3
      },
      "file_extension": ".py",
      "mimetype": "text/x-python",
      "name": "python",
      "nbconvert_exporter": "python",
      "pygments_lexer": "ipython3",
      "version": "3.10.6"
    },
    "colab": {
      "provenance": [],
      "gpuType": "T4"
    },
    "accelerator": "GPU",
    "widgets": {
      "application/vnd.jupyter.widget-state+json": {
        "da06c40d988449a2b2c65cff628e6b4c": {
          "model_module": "@jupyter-widgets/controls",
          "model_name": "HBoxModel",
          "model_module_version": "1.5.0",
          "state": {
            "_dom_classes": [],
            "_model_module": "@jupyter-widgets/controls",
            "_model_module_version": "1.5.0",
            "_model_name": "HBoxModel",
            "_view_count": null,
            "_view_module": "@jupyter-widgets/controls",
            "_view_module_version": "1.5.0",
            "_view_name": "HBoxView",
            "box_style": "",
            "children": [
              "IPY_MODEL_8556d6d5ceb945fb97fc14d73071840f",
              "IPY_MODEL_e2c1541c887b4a7daab80f0d969b2b57",
              "IPY_MODEL_115ea334045f4360a3e102ee6b3ca1b1"
            ],
            "layout": "IPY_MODEL_42ee9eebca3d43eda2b1ea93b64df6dd"
          }
        },
        "8556d6d5ceb945fb97fc14d73071840f": {
          "model_module": "@jupyter-widgets/controls",
          "model_name": "HTMLModel",
          "model_module_version": "1.5.0",
          "state": {
            "_dom_classes": [],
            "_model_module": "@jupyter-widgets/controls",
            "_model_module_version": "1.5.0",
            "_model_name": "HTMLModel",
            "_view_count": null,
            "_view_module": "@jupyter-widgets/controls",
            "_view_module_version": "1.5.0",
            "_view_name": "HTMLView",
            "description": "",
            "description_tooltip": null,
            "layout": "IPY_MODEL_32279e1f551b45f7a3b4bd596bcab659",
            "placeholder": "​",
            "style": "IPY_MODEL_945dd94d6ec947bb90774089d2411dd1",
            "value": "100%"
          }
        },
        "e2c1541c887b4a7daab80f0d969b2b57": {
          "model_module": "@jupyter-widgets/controls",
          "model_name": "FloatProgressModel",
          "model_module_version": "1.5.0",
          "state": {
            "_dom_classes": [],
            "_model_module": "@jupyter-widgets/controls",
            "_model_module_version": "1.5.0",
            "_model_name": "FloatProgressModel",
            "_view_count": null,
            "_view_module": "@jupyter-widgets/controls",
            "_view_module_version": "1.5.0",
            "_view_name": "ProgressView",
            "bar_style": "success",
            "description": "",
            "description_tooltip": null,
            "layout": "IPY_MODEL_6a21dcb1ef554537b6d9ec9ba3a3454f",
            "max": 3,
            "min": 0,
            "orientation": "horizontal",
            "style": "IPY_MODEL_1bd8aceec65542a4b1a0bca9784d68e7",
            "value": 3
          }
        },
        "115ea334045f4360a3e102ee6b3ca1b1": {
          "model_module": "@jupyter-widgets/controls",
          "model_name": "HTMLModel",
          "model_module_version": "1.5.0",
          "state": {
            "_dom_classes": [],
            "_model_module": "@jupyter-widgets/controls",
            "_model_module_version": "1.5.0",
            "_model_name": "HTMLModel",
            "_view_count": null,
            "_view_module": "@jupyter-widgets/controls",
            "_view_module_version": "1.5.0",
            "_view_name": "HTMLView",
            "description": "",
            "description_tooltip": null,
            "layout": "IPY_MODEL_01dea2911c0949b989f4a50dc6c97463",
            "placeholder": "​",
            "style": "IPY_MODEL_b6795cfaba2f456f8832de0883dfa3b4",
            "value": " 3/3 [00:00&lt;00:00, 44.08it/s]"
          }
        },
        "42ee9eebca3d43eda2b1ea93b64df6dd": {
          "model_module": "@jupyter-widgets/base",
          "model_name": "LayoutModel",
          "model_module_version": "1.2.0",
          "state": {
            "_model_module": "@jupyter-widgets/base",
            "_model_module_version": "1.2.0",
            "_model_name": "LayoutModel",
            "_view_count": null,
            "_view_module": "@jupyter-widgets/base",
            "_view_module_version": "1.2.0",
            "_view_name": "LayoutView",
            "align_content": null,
            "align_items": null,
            "align_self": null,
            "border": null,
            "bottom": null,
            "display": null,
            "flex": null,
            "flex_flow": null,
            "grid_area": null,
            "grid_auto_columns": null,
            "grid_auto_flow": null,
            "grid_auto_rows": null,
            "grid_column": null,
            "grid_gap": null,
            "grid_row": null,
            "grid_template_areas": null,
            "grid_template_columns": null,
            "grid_template_rows": null,
            "height": null,
            "justify_content": null,
            "justify_items": null,
            "left": null,
            "margin": null,
            "max_height": null,
            "max_width": null,
            "min_height": null,
            "min_width": null,
            "object_fit": null,
            "object_position": null,
            "order": null,
            "overflow": null,
            "overflow_x": null,
            "overflow_y": null,
            "padding": null,
            "right": null,
            "top": null,
            "visibility": null,
            "width": null
          }
        },
        "32279e1f551b45f7a3b4bd596bcab659": {
          "model_module": "@jupyter-widgets/base",
          "model_name": "LayoutModel",
          "model_module_version": "1.2.0",
          "state": {
            "_model_module": "@jupyter-widgets/base",
            "_model_module_version": "1.2.0",
            "_model_name": "LayoutModel",
            "_view_count": null,
            "_view_module": "@jupyter-widgets/base",
            "_view_module_version": "1.2.0",
            "_view_name": "LayoutView",
            "align_content": null,
            "align_items": null,
            "align_self": null,
            "border": null,
            "bottom": null,
            "display": null,
            "flex": null,
            "flex_flow": null,
            "grid_area": null,
            "grid_auto_columns": null,
            "grid_auto_flow": null,
            "grid_auto_rows": null,
            "grid_column": null,
            "grid_gap": null,
            "grid_row": null,
            "grid_template_areas": null,
            "grid_template_columns": null,
            "grid_template_rows": null,
            "height": null,
            "justify_content": null,
            "justify_items": null,
            "left": null,
            "margin": null,
            "max_height": null,
            "max_width": null,
            "min_height": null,
            "min_width": null,
            "object_fit": null,
            "object_position": null,
            "order": null,
            "overflow": null,
            "overflow_x": null,
            "overflow_y": null,
            "padding": null,
            "right": null,
            "top": null,
            "visibility": null,
            "width": null
          }
        },
        "945dd94d6ec947bb90774089d2411dd1": {
          "model_module": "@jupyter-widgets/controls",
          "model_name": "DescriptionStyleModel",
          "model_module_version": "1.5.0",
          "state": {
            "_model_module": "@jupyter-widgets/controls",
            "_model_module_version": "1.5.0",
            "_model_name": "DescriptionStyleModel",
            "_view_count": null,
            "_view_module": "@jupyter-widgets/base",
            "_view_module_version": "1.2.0",
            "_view_name": "StyleView",
            "description_width": ""
          }
        },
        "6a21dcb1ef554537b6d9ec9ba3a3454f": {
          "model_module": "@jupyter-widgets/base",
          "model_name": "LayoutModel",
          "model_module_version": "1.2.0",
          "state": {
            "_model_module": "@jupyter-widgets/base",
            "_model_module_version": "1.2.0",
            "_model_name": "LayoutModel",
            "_view_count": null,
            "_view_module": "@jupyter-widgets/base",
            "_view_module_version": "1.2.0",
            "_view_name": "LayoutView",
            "align_content": null,
            "align_items": null,
            "align_self": null,
            "border": null,
            "bottom": null,
            "display": null,
            "flex": null,
            "flex_flow": null,
            "grid_area": null,
            "grid_auto_columns": null,
            "grid_auto_flow": null,
            "grid_auto_rows": null,
            "grid_column": null,
            "grid_gap": null,
            "grid_row": null,
            "grid_template_areas": null,
            "grid_template_columns": null,
            "grid_template_rows": null,
            "height": null,
            "justify_content": null,
            "justify_items": null,
            "left": null,
            "margin": null,
            "max_height": null,
            "max_width": null,
            "min_height": null,
            "min_width": null,
            "object_fit": null,
            "object_position": null,
            "order": null,
            "overflow": null,
            "overflow_x": null,
            "overflow_y": null,
            "padding": null,
            "right": null,
            "top": null,
            "visibility": null,
            "width": null
          }
        },
        "1bd8aceec65542a4b1a0bca9784d68e7": {
          "model_module": "@jupyter-widgets/controls",
          "model_name": "ProgressStyleModel",
          "model_module_version": "1.5.0",
          "state": {
            "_model_module": "@jupyter-widgets/controls",
            "_model_module_version": "1.5.0",
            "_model_name": "ProgressStyleModel",
            "_view_count": null,
            "_view_module": "@jupyter-widgets/base",
            "_view_module_version": "1.2.0",
            "_view_name": "StyleView",
            "bar_color": null,
            "description_width": ""
          }
        },
        "01dea2911c0949b989f4a50dc6c97463": {
          "model_module": "@jupyter-widgets/base",
          "model_name": "LayoutModel",
          "model_module_version": "1.2.0",
          "state": {
            "_model_module": "@jupyter-widgets/base",
            "_model_module_version": "1.2.0",
            "_model_name": "LayoutModel",
            "_view_count": null,
            "_view_module": "@jupyter-widgets/base",
            "_view_module_version": "1.2.0",
            "_view_name": "LayoutView",
            "align_content": null,
            "align_items": null,
            "align_self": null,
            "border": null,
            "bottom": null,
            "display": null,
            "flex": null,
            "flex_flow": null,
            "grid_area": null,
            "grid_auto_columns": null,
            "grid_auto_flow": null,
            "grid_auto_rows": null,
            "grid_column": null,
            "grid_gap": null,
            "grid_row": null,
            "grid_template_areas": null,
            "grid_template_columns": null,
            "grid_template_rows": null,
            "height": null,
            "justify_content": null,
            "justify_items": null,
            "left": null,
            "margin": null,
            "max_height": null,
            "max_width": null,
            "min_height": null,
            "min_width": null,
            "object_fit": null,
            "object_position": null,
            "order": null,
            "overflow": null,
            "overflow_x": null,
            "overflow_y": null,
            "padding": null,
            "right": null,
            "top": null,
            "visibility": null,
            "width": null
          }
        },
        "b6795cfaba2f456f8832de0883dfa3b4": {
          "model_module": "@jupyter-widgets/controls",
          "model_name": "DescriptionStyleModel",
          "model_module_version": "1.5.0",
          "state": {
            "_model_module": "@jupyter-widgets/controls",
            "_model_module_version": "1.5.0",
            "_model_name": "DescriptionStyleModel",
            "_view_count": null,
            "_view_module": "@jupyter-widgets/base",
            "_view_module_version": "1.2.0",
            "_view_name": "StyleView",
            "description_width": ""
          }
        }
      }
    }
  },
  "nbformat": 4,
  "nbformat_minor": 5
}