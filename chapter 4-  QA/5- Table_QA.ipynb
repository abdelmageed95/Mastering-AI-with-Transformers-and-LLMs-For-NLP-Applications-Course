{
  "nbformat": 4,
  "nbformat_minor": 0,
  "metadata": {
    "colab": {
      "provenance": [],
      "gpuType": "T4"
    },
    "kernelspec": {
      "name": "python3",
      "display_name": "Python 3"
    },
    "language_info": {
      "name": "python"
    },
    "accelerator": "GPU",
    "gpuClass": "standard"
  },
  "cells": [
    {
      "cell_type": "code",
      "source": [
        "! pip install  transformers"
      ],
      "metadata": {
        "id": "1eHBN4ynD1sm"
      },
      "execution_count": null,
      "outputs": []
    },
    {
      "cell_type": "code",
      "source": [
        "from transformers import pipeline\n",
        "table_qa = pipeline(\"table-question-answering\" )\n",
        "\n",
        "queries = [\"What's the topic in chapter 4?\" ,\n",
        "            \"What is the total number of pages?\" ,\n",
        "            \"On which page does the chapter about question-answering start?\" ,\n",
        "            \"How many chapters have more than 20 pages?\" ]\n",
        "\n",
        "\n"
      ],
      "metadata": {
        "id": "a3AM4uemzADo",
        "colab": {
          "base_uri": "https://localhost:8080/"
        },
        "outputId": "cddf8537-ff09-4755-c2fd-0281886967e3"
      },
      "execution_count": null,
      "outputs": [
        {
          "output_type": "stream",
          "name": "stderr",
          "text": [
            "No model was supplied, defaulted to google/tapas-base-finetuned-wtq and revision 69ceee2 (https://huggingface.co/google/tapas-base-finetuned-wtq).\n",
            "Using a pipeline without specifying a model name and revision in production is not recommended.\n"
          ]
        }
      ]
    },
    {
      "cell_type": "code",
      "source": [
        "import pandas as pd\n",
        "book_data = [\n",
        " {\"chapter\" : 0, \"name\" : \"Introduction\" , \"start_page\" : 1, \"end_page\" : 11},\n",
        " {\"chapter\" : 1, \"name\" : \"Text classification\" , \"start_page\" : 12,\n",
        " \"end_page\" : 48},\n",
        " {\"chapter\" : 2, \"name\" : \"Named Entity Recognition\" , \"start_page\" : 49,\n",
        " \"end_page\" : 73},\n",
        " {\"chapter\" : 3, \"name\" : \"Question Answering\" , \"start_page\" : 74,\"end_page\" : 120},\n",
        " {\"chapter\" : 4, \"name\" : \"Summarization\" , \"start_page\" : 121,\n",
        " \"end_page\" : 140},\n",
        " {\"chapter\" : 5, \"name\" : \"Conclusion\" , \"start_page\" : 141,\n",
        " \"end_page\" : 144}\n",
        "]\n",
        "\n",
        "table = pd. DataFrame(book_data)\n",
        "table['number_of_pages' ] = table['end_page' ] - table['start_page' ]\n",
        "table = table. astype(str)\n",
        "table"
      ],
      "metadata": {
        "colab": {
          "base_uri": "https://localhost:8080/",
          "height": 237
        },
        "id": "JF8Qj3bwECE-",
        "outputId": "0d9ac6ea-7827-4472-96bf-0d92ddb1c797"
      },
      "execution_count": null,
      "outputs": [
        {
          "output_type": "execute_result",
          "data": {
            "text/plain": [
              "  chapter                      name start_page end_page number_of_pages\n",
              "0       0              Introduction          1       11              10\n",
              "1       1       Text classification         12       48              36\n",
              "2       2  Named Entity Recognition         49       73              24\n",
              "3       3        Question Answering         74      120              46\n",
              "4       4             Summarization        121      140              19\n",
              "5       5                Conclusion        141      144               3"
            ],
            "text/html": [
              "\n",
              "  <div id=\"df-7e171717-0fa5-403d-ae54-eaaf49e88a5e\">\n",
              "    <div class=\"colab-df-container\">\n",
              "      <div>\n",
              "<style scoped>\n",
              "    .dataframe tbody tr th:only-of-type {\n",
              "        vertical-align: middle;\n",
              "    }\n",
              "\n",
              "    .dataframe tbody tr th {\n",
              "        vertical-align: top;\n",
              "    }\n",
              "\n",
              "    .dataframe thead th {\n",
              "        text-align: right;\n",
              "    }\n",
              "</style>\n",
              "<table border=\"1\" class=\"dataframe\">\n",
              "  <thead>\n",
              "    <tr style=\"text-align: right;\">\n",
              "      <th></th>\n",
              "      <th>chapter</th>\n",
              "      <th>name</th>\n",
              "      <th>start_page</th>\n",
              "      <th>end_page</th>\n",
              "      <th>number_of_pages</th>\n",
              "    </tr>\n",
              "  </thead>\n",
              "  <tbody>\n",
              "    <tr>\n",
              "      <th>0</th>\n",
              "      <td>0</td>\n",
              "      <td>Introduction</td>\n",
              "      <td>1</td>\n",
              "      <td>11</td>\n",
              "      <td>10</td>\n",
              "    </tr>\n",
              "    <tr>\n",
              "      <th>1</th>\n",
              "      <td>1</td>\n",
              "      <td>Text classification</td>\n",
              "      <td>12</td>\n",
              "      <td>48</td>\n",
              "      <td>36</td>\n",
              "    </tr>\n",
              "    <tr>\n",
              "      <th>2</th>\n",
              "      <td>2</td>\n",
              "      <td>Named Entity Recognition</td>\n",
              "      <td>49</td>\n",
              "      <td>73</td>\n",
              "      <td>24</td>\n",
              "    </tr>\n",
              "    <tr>\n",
              "      <th>3</th>\n",
              "      <td>3</td>\n",
              "      <td>Question Answering</td>\n",
              "      <td>74</td>\n",
              "      <td>120</td>\n",
              "      <td>46</td>\n",
              "    </tr>\n",
              "    <tr>\n",
              "      <th>4</th>\n",
              "      <td>4</td>\n",
              "      <td>Summarization</td>\n",
              "      <td>121</td>\n",
              "      <td>140</td>\n",
              "      <td>19</td>\n",
              "    </tr>\n",
              "    <tr>\n",
              "      <th>5</th>\n",
              "      <td>5</td>\n",
              "      <td>Conclusion</td>\n",
              "      <td>141</td>\n",
              "      <td>144</td>\n",
              "      <td>3</td>\n",
              "    </tr>\n",
              "  </tbody>\n",
              "</table>\n",
              "</div>\n",
              "      <button class=\"colab-df-convert\" onclick=\"convertToInteractive('df-7e171717-0fa5-403d-ae54-eaaf49e88a5e')\"\n",
              "              title=\"Convert this dataframe to an interactive table.\"\n",
              "              style=\"display:none;\">\n",
              "        \n",
              "  <svg xmlns=\"http://www.w3.org/2000/svg\" height=\"24px\"viewBox=\"0 0 24 24\"\n",
              "       width=\"24px\">\n",
              "    <path d=\"M0 0h24v24H0V0z\" fill=\"none\"/>\n",
              "    <path d=\"M18.56 5.44l.94 2.06.94-2.06 2.06-.94-2.06-.94-.94-2.06-.94 2.06-2.06.94zm-11 1L8.5 8.5l.94-2.06 2.06-.94-2.06-.94L8.5 2.5l-.94 2.06-2.06.94zm10 10l.94 2.06.94-2.06 2.06-.94-2.06-.94-.94-2.06-.94 2.06-2.06.94z\"/><path d=\"M17.41 7.96l-1.37-1.37c-.4-.4-.92-.59-1.43-.59-.52 0-1.04.2-1.43.59L10.3 9.45l-7.72 7.72c-.78.78-.78 2.05 0 2.83L4 21.41c.39.39.9.59 1.41.59.51 0 1.02-.2 1.41-.59l7.78-7.78 2.81-2.81c.8-.78.8-2.07 0-2.86zM5.41 20L4 18.59l7.72-7.72 1.47 1.35L5.41 20z\"/>\n",
              "  </svg>\n",
              "      </button>\n",
              "      \n",
              "  <style>\n",
              "    .colab-df-container {\n",
              "      display:flex;\n",
              "      flex-wrap:wrap;\n",
              "      gap: 12px;\n",
              "    }\n",
              "\n",
              "    .colab-df-convert {\n",
              "      background-color: #E8F0FE;\n",
              "      border: none;\n",
              "      border-radius: 50%;\n",
              "      cursor: pointer;\n",
              "      display: none;\n",
              "      fill: #1967D2;\n",
              "      height: 32px;\n",
              "      padding: 0 0 0 0;\n",
              "      width: 32px;\n",
              "    }\n",
              "\n",
              "    .colab-df-convert:hover {\n",
              "      background-color: #E2EBFA;\n",
              "      box-shadow: 0px 1px 2px rgba(60, 64, 67, 0.3), 0px 1px 3px 1px rgba(60, 64, 67, 0.15);\n",
              "      fill: #174EA6;\n",
              "    }\n",
              "\n",
              "    [theme=dark] .colab-df-convert {\n",
              "      background-color: #3B4455;\n",
              "      fill: #D2E3FC;\n",
              "    }\n",
              "\n",
              "    [theme=dark] .colab-df-convert:hover {\n",
              "      background-color: #434B5C;\n",
              "      box-shadow: 0px 1px 3px 1px rgba(0, 0, 0, 0.15);\n",
              "      filter: drop-shadow(0px 1px 2px rgba(0, 0, 0, 0.3));\n",
              "      fill: #FFFFFF;\n",
              "    }\n",
              "  </style>\n",
              "\n",
              "      <script>\n",
              "        const buttonEl =\n",
              "          document.querySelector('#df-7e171717-0fa5-403d-ae54-eaaf49e88a5e button.colab-df-convert');\n",
              "        buttonEl.style.display =\n",
              "          google.colab.kernel.accessAllowed ? 'block' : 'none';\n",
              "\n",
              "        async function convertToInteractive(key) {\n",
              "          const element = document.querySelector('#df-7e171717-0fa5-403d-ae54-eaaf49e88a5e');\n",
              "          const dataTable =\n",
              "            await google.colab.kernel.invokeFunction('convertToInteractive',\n",
              "                                                     [key], {});\n",
              "          if (!dataTable) return;\n",
              "\n",
              "          const docLinkHtml = 'Like what you see? Visit the ' +\n",
              "            '<a target=\"_blank\" href=https://colab.research.google.com/notebooks/data_table.ipynb>data table notebook</a>'\n",
              "            + ' to learn more about interactive tables.';\n",
              "          element.innerHTML = '';\n",
              "          dataTable['output_type'] = 'display_data';\n",
              "          await google.colab.output.renderOutput(dataTable, element);\n",
              "          const docLink = document.createElement('div');\n",
              "          docLink.innerHTML = docLinkHtml;\n",
              "          element.appendChild(docLink);\n",
              "        }\n",
              "      </script>\n",
              "    </div>\n",
              "  </div>\n",
              "  "
            ]
          },
          "metadata": {},
          "execution_count": 6
        }
      ]
    },
    {
      "cell_type": "code",
      "source": [
        "preds = table_qa(table, queries)\n",
        "preds"
      ],
      "metadata": {
        "colab": {
          "base_uri": "https://localhost:8080/"
        },
        "id": "wiDNju00Eb5W",
        "outputId": "e1854895-2afd-4daa-da62-364c8e7ff73a"
      },
      "execution_count": null,
      "outputs": [
        {
          "output_type": "execute_result",
          "data": {
            "text/plain": [
              "[{'answer': 'Summarization',\n",
              "  'coordinates': [(4, 1)],\n",
              "  'cells': ['Summarization'],\n",
              "  'aggregator': 'NONE'},\n",
              " {'answer': 'SUM > 10, 36, 24, 46, 19, 3',\n",
              "  'coordinates': [(0, 4), (1, 4), (2, 4), (3, 4), (4, 4), (5, 4)],\n",
              "  'cells': ['10', '36', '24', '46', '19', '3'],\n",
              "  'aggregator': 'SUM'},\n",
              " {'answer': 'AVERAGE > 74',\n",
              "  'coordinates': [(3, 2)],\n",
              "  'cells': ['74'],\n",
              "  'aggregator': 'AVERAGE'},\n",
              " {'answer': 'COUNT > 1, 2, 3',\n",
              "  'coordinates': [(1, 0), (2, 0), (3, 0)],\n",
              "  'cells': ['1', '2', '3'],\n",
              "  'aggregator': 'COUNT'}]"
            ]
          },
          "metadata": {},
          "execution_count": 9
        }
      ]
    },
    {
      "cell_type": "code",
      "source": [
        "\n",
        "preds = table_qa(table, queries)\n",
        "\n",
        "for query, pred in zip(queries, preds):\n",
        "  print(query)\n",
        "  if pred[\"aggregator\" ] == \"NONE\" :\n",
        "    print(\"Predicted answer: \" + pred[\"answer\" ])\n",
        "  else:\n",
        "    print(\"Predicted answer: \" + pred[\"answer\" ])\n",
        "  \n",
        "  print('=' *50)"
      ],
      "metadata": {
        "colab": {
          "base_uri": "https://localhost:8080/"
        },
        "id": "AuCzdR3rIVVZ",
        "outputId": "0171a9e0-a108-4db8-bce8-bb60c0e436d0"
      },
      "execution_count": null,
      "outputs": [
        {
          "output_type": "stream",
          "name": "stdout",
          "text": [
            "What's the topic in chapter 4?\n",
            "Predicted answer: Summarization\n",
            "==================================================\n",
            "What is the total number of pages?\n",
            "Predicted answer: SUM > 10, 36, 24, 46, 19, 3\n",
            "==================================================\n",
            "On which page does the chapter about question-answering start?\n",
            "Predicted answer: AVERAGE > 74\n",
            "==================================================\n",
            "How many chapters have more than 20 pages?\n",
            "Predicted answer: COUNT > 1, 2, 3\n",
            "==================================================\n"
          ]
        }
      ]
    },
    {
      "cell_type": "code",
      "source": [],
      "metadata": {
        "id": "wfWGRgyOIdGA"
      },
      "execution_count": null,
      "outputs": []
    }
  ]
}